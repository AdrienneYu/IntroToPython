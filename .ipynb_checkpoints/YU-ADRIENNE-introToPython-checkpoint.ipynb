{
 "cells": [
  {
   "cell_type": "markdown",
   "id": "7bd53a13",
   "metadata": {},
   "source": [
    "# Assignment: Intro to Python"
   ]
  },
  {
   "cell_type": "markdown",
   "id": "bcea8e53",
   "metadata": {},
   "source": [
    "## Instruction\n",
    "  \n",
    "This is the template file for the assignment of Module 4 called \"Intro to Python.\" Please carefully follow the instruction bellow.\n",
    "  \n",
    "1. Rename this file by filling out your surname and first name in the file name. For example, if your surname is Ilagan and if your first name is Joben, then rename the file to ILAGAN-JOBEN-introToPython.ipynb.\n",
    "2. Fill out the markdown cell just above Problem 1 with your student details as indicated.\n",
    "3. To submit this file, first, upload your file to your GitHub repository and, second, submit your repository link to the assignment on Canvas."
   ]
  },
  {
   "cell_type": "markdown",
   "id": "2c92465b",
   "metadata": {},
   "source": [
    "## Student Details  \n",
    "ID Number: 205522  \n",
    "Surname: Yu  \n",
    "Year and Course: 2 BS ITE"
   ]
  },
  {
   "cell_type": "markdown",
   "id": "a33aa476",
   "metadata": {},
   "source": [
    "# Problem 1 (5 points)"
   ]
  },
  {
   "cell_type": "markdown",
   "id": "36b6964e",
   "metadata": {},
   "source": [
    "This is the only problem in this assignment.\n",
    "  \n",
    "Overall prompt:  \n",
    "**Write a program that prompts the user to input three positive integers and outputs the average of those three positive integers.** \n",
    "  \n",
    "The program must follow these specifications:  \n",
    "  \n",
    "1. Accept the user's input numbers one at a time. Use this format:  \n",
    "    Enter first number: {firstnumber}  \n",
    "    Enter second number: {secondnumber}  \n",
    "    Enter third number: {thirdnumber}  \n",
    "2. The output should display using this format:  \n",
    "    The average is {average}.  \n",
    "3. The program must, at some point, call a function called three_number_average that accepts three arguments and returns the average of those three arguments."
   ]
  },
  {
   "cell_type": "code",
   "execution_count": 26,
   "id": "a36041a3",
   "metadata": {},
   "outputs": [],
   "source": [
    "def three_number_average (firstnumber, secondnumber, thirdnumber):\n",
    "    return (firstnumber + secondnumber + thirdnumber) / 3"
   ]
  },
  {
   "cell_type": "code",
   "execution_count": 27,
   "id": "0d6f64cf",
   "metadata": {},
   "outputs": [
    {
     "name": "stdout",
     "output_type": "stream",
     "text": [
      "Enter first number: 3\n",
      "Enter second number: 6\n",
      "Enter third number: 9\n",
      "The average is  6.0\n"
     ]
    }
   ],
   "source": [
    "# ask for first number\n",
    "firstnumber = int(input(\"Enter first number: \"))\n",
    "\n",
    "# ask for second number\n",
    "secondnumber = int(input(\"Enter second number: \"))\n",
    "\n",
    "# ask for third number\n",
    "thirdnumber = int(input(\"Enter third number: \"))\n",
    "\n",
    "# compute for average\n",
    "average = three_number_average (firstnumber, secondnumber, thirdnumber)\n",
    "\n",
    "# display \n",
    "print(\"The average is \", average)"
   ]
  },
  {
   "cell_type": "code",
   "execution_count": 28,
   "id": "394aa1ed",
   "metadata": {},
   "outputs": [
    {
     "data": {
      "text/plain": [
       "6.0"
      ]
     },
     "execution_count": 28,
     "metadata": {},
     "output_type": "execute_result"
    }
   ],
   "source": [
    "three_number_average (5,6,7)"
   ]
  },
  {
   "cell_type": "code",
   "execution_count": null,
   "id": "0a4b82aa",
   "metadata": {},
   "outputs": [],
   "source": []
  }
 ],
 "metadata": {
  "kernelspec": {
   "display_name": "Python 3",
   "language": "python",
   "name": "python3"
  },
  "language_info": {
   "codemirror_mode": {
    "name": "ipython",
    "version": 3
   },
   "file_extension": ".py",
   "mimetype": "text/x-python",
   "name": "python",
   "nbconvert_exporter": "python",
   "pygments_lexer": "ipython3",
   "version": "3.8.8"
  }
 },
 "nbformat": 4,
 "nbformat_minor": 5
}
