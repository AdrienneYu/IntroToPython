{
 "cells": [
  {
   "cell_type": "markdown",
   "id": "2c92465b",
   "metadata": {},
   "source": [
    "# Student Details\n",
    "ID Number: 205522  \n",
    "Surname: Yu  \n",
    "Year and Course: 2 BS ITE"
   ]
  },
  {
   "cell_type": "markdown",
   "id": "a33aa476",
   "metadata": {},
   "source": [
    "# Problem 1 (5 points)"
   ]
  },
  {
   "cell_type": "markdown",
   "id": "36b6964e",
   "metadata": {},
   "source": [
    "Accept the user's input numbers one at a time. Use this format:  \n",
    "Enter first number: {firstnumber}  \n",
    "Enter second number: {secondnumber}  \n",
    "Enter third number: {thirdnumber}  \n",
    "The output should display using this format:  \n",
    "The average is {average}.  \n",
    "The program must, at some point, call a function called three_number_average that accepts three arguments and returns the average of those three arguments."
   ]
  },
  {
   "cell_type": "code",
   "execution_count": 5,
   "id": "a36041a3",
   "metadata": {},
   "outputs": [
    {
     "name": "stdout",
     "output_type": "stream",
     "text": [
      "1\n",
      "2\n",
      "3\n",
      "2.0\n"
     ]
    }
   ],
   "source": [
    "firstnumber = int(input())\n",
    "secondnumber = int(input())\n",
    "thirdnumber = int(input())\n",
    "\n",
    "average = (firstnumber + secondnumber + thirdnumber)/3\n",
    "print(average)"
   ]
  }
 ],
 "metadata": {
  "kernelspec": {
   "display_name": "Python 3",
   "language": "python",
   "name": "python3"
  },
  "language_info": {
   "codemirror_mode": {
    "name": "ipython",
    "version": 3
   },
   "file_extension": ".py",
   "mimetype": "text/x-python",
   "name": "python",
   "nbconvert_exporter": "python",
   "pygments_lexer": "ipython3",
   "version": "3.8.8"
  }
 },
 "nbformat": 4,
 "nbformat_minor": 5
}
